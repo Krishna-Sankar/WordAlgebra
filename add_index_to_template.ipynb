{
 "cells": [
  {
   "cell_type": "code",
   "execution_count": 20,
   "metadata": {
    "collapsed": false
   },
   "outputs": [],
   "source": [
    "import numpy as np\n",
    "import json\n",
    "\n",
    "import os\n",
    "import sys\n",
    "module_path = os.path.abspath(os.path.join('.'))\n",
    "if module_path not in sys.path:\n",
    "    sys.path.append(module_path)\n",
    "\n",
    "\n",
    "%reload_ext autoreload\n",
    "import main\n",
    "from main import numbers_to_words, derivation_to_equation"
   ]
  },
  {
   "cell_type": "code",
   "execution_count": 21,
   "metadata": {
    "collapsed": false
   },
   "outputs": [
    {
     "name": "stdout",
     "output_type": "stream",
     "text": [
      "<module 'main' from 'main.py'>\n"
     ]
    },
    {
     "data": {
      "text/plain": [
       "<function main.numbers_to_words>"
      ]
     },
     "execution_count": 21,
     "metadata": {},
     "output_type": "execute_result"
    }
   ],
   "source": [
    "print(main)\n",
    "main.numbers_to_words"
   ]
  },
  {
   "cell_type": "code",
   "execution_count": 22,
   "metadata": {
    "collapsed": false
   },
   "outputs": [
    {
     "name": "stdout",
     "output_type": "stream",
     "text": [
      "<type 'list'>\n",
      "1000\n",
      "{u'sQuestion': u'Juniors boat will go 15 miles per hour in still water . If he can go 12 miles downstream in the same amount of time as it takes to go 9 miles upstream , then what is the speed of the current .', u'lSolutions': [2.14285714286], u'Template': [u'a * m + b * m = b * c - a * c'], u'lEquations': [u'12*(15-x)=9*(15+x)'], u'iIndex': 397760, u'Alignment': [{u'coeff': u'a', u'SentenceId': 1, u'Value': 9.0, u'TokenId': 18}, {u'coeff': u'b', u'SentenceId': 1, u'Value': 12.0, u'TokenId': 4}, {u'coeff': u'c', u'SentenceId': 0, u'Value': 15.0, u'TokenId': 4}], u'Equiv': []}\n"
     ]
    }
   ],
   "source": [
    "max_len = -10\n",
    "with open('0.7 - release/draw.json', 'r') as f:\n",
    "    datastore = json.load(f)\n",
    "print(type(datastore))\n",
    "print(len(datastore))\n",
    "print(datastore[0])"
   ]
  },
  {
   "cell_type": "code",
   "execution_count": 23,
   "metadata": {
    "collapsed": false
   },
   "outputs": [
    {
     "name": "stdout",
     "output_type": "stream",
     "text": [
      "230\n",
      "DONE.\n"
     ]
    }
   ],
   "source": [
    "unique_templates = []\n",
    "\n",
    "for data_sample in datastore:\n",
    "    #print(data_sample['Template'])\n",
    "    #print(type(data_sample['Template']))\n",
    "    \n",
    "    template = data_sample['Template']\n",
    "    #print(template)\n",
    "    #if len(template) > 1 and template in unique_templates:\n",
    "    #    print(template)\n",
    "    if not template in unique_templates:\n",
    "        unique_templates.append(template)\n",
    "        \n",
    "print(len(unique_templates))\n",
    "\n",
    "for data_sample in datastore:\n",
    "    template = data_sample['Template']\n",
    "    template_index = unique_templates.index(template)\n",
    "    data_sample['template_index'] = template_index\n",
    "    \n",
    "# Write to a new json file that contains template index\n",
    "with open('0.7 - release/draw_template_index.json', 'w') as fp:\n",
    "    json.dump(datastore, fp, indent=1)\n",
    "    \n",
    "print('DONE.')"
   ]
  },
  {
   "cell_type": "code",
   "execution_count": null,
   "metadata": {
    "collapsed": true
   },
   "outputs": [],
   "source": []
  },
  {
   "cell_type": "code",
   "execution_count": 25,
   "metadata": {
    "collapsed": false
   },
   "outputs": [
    {
     "name": "stdout",
     "output_type": "stream",
     "text": [
      "[u'a', u'b', u'c', u'd', u'e', u'f']\n"
     ]
    }
   ],
   "source": [
    "unique_coeffs = []\n",
    "\n",
    "for data_sample in datastore:\n",
    "    alignments = data_sample['Alignment']\n",
    "    \n",
    "    for a in alignments:\n",
    "        coeff = a['coeff']\n",
    "        if not coeff in unique_coeffs:\n",
    "            unique_coeffs.append(coeff)\n",
    "            \n",
    "print(unique_coeffs)"
   ]
  },
  {
   "cell_type": "code",
   "execution_count": 26,
   "metadata": {
    "collapsed": false
   },
   "outputs": [
    {
     "name": "stdout",
     "output_type": "stream",
     "text": [
      "25\n",
      "DONE.\n"
     ]
    }
   ],
   "source": [
    "max_len = -10\n",
    "with open('0.7 - release/kushman.json', 'r') as f:\n",
    "    datastore = json.load(f)\n",
    "\n",
    "unique_templates = []\n",
    "\n",
    "for data_sample in datastore:\n",
    "    #print(data_sample['Template'])\n",
    "    #print(type(data_sample['Template']))\n",
    "    \n",
    "    template = data_sample['Template']\n",
    "    #print(template)\n",
    "    #if len(template) > 1 and template in unique_templates:\n",
    "    #    print(template)\n",
    "    if not template in unique_templates:\n",
    "        unique_templates.append(template)\n",
    "        \n",
    "print(len(unique_templates))\n",
    "\n",
    "for data_sample in datastore:\n",
    "    template = data_sample['Template']\n",
    "    template_index = unique_templates.index(template)\n",
    "    data_sample['template_index'] = template_index\n",
    "    \n",
    "# Write to a new json file that contains template index\n",
    "with open('0.7 - release/kushman_template_index.json', 'w') as fp:\n",
    "    json.dump(datastore, fp, indent=1)\n",
    "    \n",
    "print('DONE.')"
   ]
  },
  {
   "cell_type": "code",
   "execution_count": null,
   "metadata": {
    "collapsed": true
   },
   "outputs": [],
   "source": []
  }
 ],
 "metadata": {
  "kernelspec": {
   "display_name": "Python 2",
   "language": "python",
   "name": "python2"
  },
  "language_info": {
   "codemirror_mode": {
    "name": "ipython",
    "version": 2
   },
   "file_extension": ".py",
   "mimetype": "text/x-python",
   "name": "python",
   "nbconvert_exporter": "python",
   "pygments_lexer": "ipython2",
   "version": "2.7.10"
  }
 },
 "nbformat": 4,
 "nbformat_minor": 2
}
